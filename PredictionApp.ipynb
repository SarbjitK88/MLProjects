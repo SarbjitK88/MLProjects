{
 "cells": [
  {
   "cell_type": "code",
   "execution_count": 14,
   "metadata": {},
   "outputs": [],
   "source": [
    "import streamlit as st\n",
    "import joblib\n",
    "import numpy as np"
   ]
  },
  {
   "cell_type": "code",
   "execution_count": 12,
   "metadata": {},
   "outputs": [],
   "source": [
    "model = joblib.load('random_forest.pkl')\n",
    "\n",
    "st.title(\"Appointments Prediction\")\n",
    "\n",
    "st.markdown(\"\"\"\n",
    "This app predicts whether a patient will Show up or Not for their medical appointment based on various factors.\n",
    "\"\"\")\n",
    "\n",
    "gender = st.radio(\"Gender\", options=[0, 1], format_func=lambda x: \"Female\" if x == 0 else \"Male\")\n",
    "age = st.number_input(\"Enter Age of the Patient\", min_value=0, max_value=120, step=1)\n",
    "scholarship = st.radio(\"Is pateint receiving Scholarship\", options=[0, 1])\n",
    "hypertension = st.radio(\"Does patient have Hypertension\", options=[0, 1])\n",
    "diabetes = st.radio(\"Is patient diabetic\", options=[0, 1])\n",
    "alcoholism = st.radio(\"Alchohol comsumption\", options=[0, 1])\n",
    "handicap = st.radio(\"Handicap\", options=[0, 1])\n",
    "sms_received = st.radio(\"Received SMS Reminder\", options=[0, 1])\n",
    "days_difference = st.number_input(\"Gap between scheduled and actual appointment date\", min_value=0, step=1)\n",
    "\n",
    "user_input = np.array([[gender, age, scholarship, hypertension, diabetes, alcoholism, \n",
    "                        handicap, sms_received, days_difference]])\n",
    "\n",
    "# Make the prediction\n",
    "if st.button('Predict'):\n",
    "    prediction = model.predict(user_input)[0]\n",
    "\n",
    "    # Interpret prediction\n",
    "    if prediction == 0:\n",
    "        st.success(\"The patient is likely to Attend for the appointment.\")\n",
    "    else:\n",
    "        st.error(\"The patient is likely to Miss for the appointment.\")\n"
   ]
  },
  {
   "cell_type": "markdown",
   "metadata": {},
   "source": [
    "Convert to python script"
   ]
  },
  {
   "cell_type": "code",
   "execution_count": null,
   "metadata": {},
   "outputs": [
    {
     "name": "stdout",
     "output_type": "stream",
     "text": [
      "[NbConvertApp] Converting notebook PredictionApp.ipynb to script\n",
      "[NbConvertApp] Writing 1560 bytes to PredictionApp.py\n"
     ]
    }
   ],
   "source": [
    "#!jupyter nbconvert --to script PredictionApp.ipynb"
   ]
  },
  {
   "cell_type": "code",
   "execution_count": 19,
   "metadata": {},
   "outputs": [
    {
     "name": "stdout",
     "output_type": "stream",
     "text": [
      "Processing /private/var/folders/k1/30mswbxs7r1g6zwn8y4fyt500000gp/T/abs_1cl06d5vjc/croot/aiobotocore_1714464399334/work (from -r requirements.txt (line 1))\n",
      "\u001b[31mERROR: Could not install packages due to an OSError: [Errno 2] No such file or directory: '/private/var/folders/k1/30mswbxs7r1g6zwn8y4fyt500000gp/T/abs_1cl06d5vjc/croot/aiobotocore_1714464399334/work'\n",
      "\u001b[0m\u001b[31m\n",
      "\u001b[0m"
     ]
    }
   ],
   "source": [
    "#!pip install -r requirements.txt"
   ]
  }
 ],
 "metadata": {
  "kernelspec": {
   "display_name": "base",
   "language": "python",
   "name": "python3"
  },
  "language_info": {
   "codemirror_mode": {
    "name": "ipython",
    "version": 3
   },
   "file_extension": ".py",
   "mimetype": "text/x-python",
   "name": "python",
   "nbconvert_exporter": "python",
   "pygments_lexer": "ipython3",
   "version": "3.12.7"
  }
 },
 "nbformat": 4,
 "nbformat_minor": 2
}
